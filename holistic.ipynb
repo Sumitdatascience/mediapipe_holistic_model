{
 "cells": [
  {
   "cell_type": "markdown",
   "id": "67a74bd5-5133-431e-abfa-4af99f0ffa0f",
   "metadata": {},
   "source": [
    "# import all the necessary library"
   ]
  },
  {
   "cell_type": "code",
   "execution_count": 1,
   "id": "e251292d-958b-4139-930e-e98ad507735f",
   "metadata": {},
   "outputs": [
    {
     "name": "stdout",
     "output_type": "stream",
     "text": [
      "WARNING:tensorflow:From C:\\Users\\h\\anaconda3\\Lib\\site-packages\\keras\\src\\losses.py:2976: The name tf.losses.sparse_softmax_cross_entropy is deprecated. Please use tf.compat.v1.losses.sparse_softmax_cross_entropy instead.\n",
      "\n"
     ]
    }
   ],
   "source": [
    "import mediapipe as mp\n",
    "import numpy as np\n",
    "import cv2"
   ]
  },
  {
   "cell_type": "markdown",
   "id": "17e31647-bf42-43b5-8348-7d76fdec14a6",
   "metadata": {},
   "source": [
    "# import all the dependency "
   ]
  },
  {
   "cell_type": "code",
   "execution_count": 2,
   "id": "71f2655c-b7ae-4730-9f53-ca4be2e7c0f6",
   "metadata": {},
   "outputs": [],
   "source": [
    "mp_drawing = mp.solutions.drawing_utils\n",
    "mp_holistic = mp.solutions.holistic"
   ]
  },
  {
   "cell_type": "markdown",
   "id": "4e67b1eb-b348-4f2c-8b8f-e5f3e065086d",
   "metadata": {},
   "source": [
    "# get the real time video feed"
   ]
  },
  {
   "cell_type": "code",
   "execution_count": 3,
   "id": "b3118ed4-e38d-4ddf-857f-7d5c7f7a88a6",
   "metadata": {},
   "outputs": [],
   "source": [
    "cap =cv2.VideoCapture(0)\n",
    "while True:\n",
    "    returns, frame =cap.read()\n",
    "    cv2.imshow('window',frame)\n",
    "    if cv2.waitKey(3) & 0xFF==ord('q'):\n",
    "        break\n",
    "cap.release()\n",
    "cv2.destroyAllWindows()"
   ]
  },
  {
   "cell_type": "code",
   "execution_count": 4,
   "id": "92a28eee-26b9-4efa-952f-372e488dcfb6",
   "metadata": {},
   "outputs": [],
   "source": [
    "cap.release()\n",
    "cv2.destroyAllWindows()"
   ]
  },
  {
   "cell_type": "markdown",
   "id": "f8938cff-fc42-4a2c-a20e-3951ae12113f",
   "metadata": {},
   "source": [
    "# make detections"
   ]
  },
  {
   "cell_type": "markdown",
   "id": "b50b643b-9ea7-410d-93b7-691892b46c72",
   "metadata": {},
   "source": []
  },
  {
   "cell_type": "code",
   "execution_count": 3,
   "id": "39f82e3f-c359-4de4-8fa9-8660a469b057",
   "metadata": {},
   "outputs": [],
   "source": [
    "cap =cv2.VideoCapture(0)\n",
    "# lets initialize the holistic model\n",
    "with mp_holistic.Holistic(min_detection_confidence=0.5,min_tracking_confidence=0.5) as holistic:\n",
    "    while True:\n",
    "        returns, frame =cap.read()\n",
    "        # recolor the video\n",
    "        image=cv2.cvtColor(frame,cv2.COLOR_BGR2RGB)\n",
    "\n",
    "        # make the detection\n",
    "\n",
    "        results=holistic.process(image)\n",
    "        #print(results.face_landmarks)\n",
    "\n",
    "        # color back to BGR\n",
    "        image = cv2.cvtColor(image,cv2.COLOR_RGB2BGR)\n",
    "\n",
    "        \n",
    "        # get the landmark\n",
    "        # fcaelandmark detection\n",
    "        mp_drawing.draw_landmarks(image, results.face_landmarks, mp_holistic.FACEMESH_CONTOURS,\n",
    "                                 mp_drawing.DrawingSpec(color=(50,255,0), thickness=2, circle_radius=2),\n",
    "                                 mp_drawing.DrawingSpec(color=(255,0,0), thickness=2, circle_radius=2)\n",
    "                                  )\n",
    "        \n",
    "        #right hand land mark detection\n",
    "        mp_drawing.draw_landmarks(image, results.right_hand_landmarks, mp_holistic.HAND_CONNECTIONS,\n",
    "                                  mp_drawing.DrawingSpec(color=(255,0,0), thickness=2, circle_radius=2),\n",
    "                                  mp_drawing.DrawingSpec(color=(0,255,0), thickness=2, circle_radius=2)\n",
    "                                 \n",
    "                                 \n",
    "                                 \n",
    "                                 )\n",
    "        # left hand land mark detection\n",
    "        mp_drawing.draw_landmarks(image, results.left_hand_landmarks, mp_holistic.HAND_CONNECTIONS,\n",
    "                                  mp_drawing.DrawingSpec(color=(50,255,0), thickness=2, circle_radius=2),\n",
    "                                  mp_drawing.DrawingSpec(color=(255,0,0), thickness=2, circle_radius=2)\n",
    "                                 \n",
    "                                 \n",
    "                                 )\n",
    "        # pose detection\n",
    "        mp_drawing.draw_landmarks(image, results.pose_landmarks, mp_holistic.POSE_CONNECTIONS,\n",
    "                                  mp_drawing.DrawingSpec(color=(0,0,255), thickness=2, circle_radius=2),\n",
    "                                  mp_drawing.DrawingSpec(color=(255,0,150), thickness=2, circle_radius=2)\n",
    "                                 \n",
    "                                 \n",
    "                                 \n",
    "                                 )\n",
    "        \n",
    "        \n",
    "        \n",
    "        cv2.imshow('window',image)\n",
    "        if cv2.waitKey(3) & 0xFF==ord('q'):\n",
    "            break\n",
    "cap.release()\n",
    "cv2.destroyAllWindows()\n"
   ]
  },
  {
   "cell_type": "code",
   "execution_count": 4,
   "id": "3bd9659d-61df-49eb-860f-c5a469365382",
   "metadata": {},
   "outputs": [
    {
     "data": {
      "text/plain": [
       "'C:\\\\Users\\\\h'"
      ]
     },
     "execution_count": 4,
     "metadata": {},
     "output_type": "execute_result"
    }
   ],
   "source": [
    "pwd"
   ]
  },
  {
   "cell_type": "code",
   "execution_count": null,
   "id": "1bc7a8e5-0173-4999-9400-4daacdec3893",
   "metadata": {},
   "outputs": [],
   "source": []
  }
 ],
 "metadata": {
  "kernelspec": {
   "display_name": "Python 3 (ipykernel)",
   "language": "python",
   "name": "python3"
  },
  "language_info": {
   "codemirror_mode": {
    "name": "ipython",
    "version": 3
   },
   "file_extension": ".py",
   "mimetype": "text/x-python",
   "name": "python",
   "nbconvert_exporter": "python",
   "pygments_lexer": "ipython3",
   "version": "3.11.5"
  }
 },
 "nbformat": 4,
 "nbformat_minor": 5
}
